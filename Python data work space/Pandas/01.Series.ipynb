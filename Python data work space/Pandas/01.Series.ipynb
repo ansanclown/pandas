{
 "cells": [
  {
   "cell_type": "markdown",
   "id": "9125af42-f94c-475b-b2cf-e98df8d60e7e",
   "metadata": {},
   "source": [
    "# Pandas\n",
    "데이터 분석 라이브러리"
   ]
  },
  {
   "cell_type": "code",
   "execution_count": 1,
   "id": "e963bf7e-ee9a-4fd3-9bab-fcb9ff375694",
   "metadata": {},
   "outputs": [],
   "source": [
    "import pandas as pd"
   ]
  },
  {
   "cell_type": "markdown",
   "id": "50476bb8-46ab-4d4a-8b7b-2c264f0f6d04",
   "metadata": {},
   "source": [
    "# 1. Series\n",
    "1차원 데이터 (정수, 실수, 문자열)"
   ]
  },
  {
   "cell_type": "markdown",
   "id": "481b0029-3dc9-4d15-b045-556a7b386075",
   "metadata": {},
   "source": [
    "## series 객체 생성\n",
    "예) 1~4월 평균 온도 데이터 (-20, -10, 10, 20)"
   ]
  },
  {
   "cell_type": "code",
   "execution_count": 5,
   "id": "5948492c-45c0-4246-abaf-a022c4e765d4",
   "metadata": {},
   "outputs": [
    {
     "data": {
      "text/plain": [
       "0   -20\n",
       "1   -10\n",
       "2    10\n",
       "3    20\n",
       "dtype: int64"
      ]
     },
     "execution_count": 5,
     "metadata": {},
     "output_type": "execute_result"
    }
   ],
   "source": [
    "temp = pd.Series([-20, -10, 10, 20])\n",
    "temp"
   ]
  },
  {
   "cell_type": "code",
   "execution_count": 8,
   "id": "83aed4e7-0821-4614-9816-a09d0118e675",
   "metadata": {},
   "outputs": [
    {
     "name": "stdout",
     "output_type": "stream",
     "text": [
      "-20\n"
     ]
    }
   ],
   "source": [
    "print(temp[0])"
   ]
  },
  {
   "cell_type": "code",
   "execution_count": 9,
   "id": "c520671a-7457-4986-b80c-e4130b104844",
   "metadata": {},
   "outputs": [
    {
     "name": "stdout",
     "output_type": "stream",
     "text": [
      "10\n"
     ]
    }
   ],
   "source": [
    "print(temp[2])"
   ]
  },
  {
   "cell_type": "markdown",
   "id": "2722ed6d-2124-4cf6-ae92-4c3529e5af8f",
   "metadata": {},
   "source": [
    "# series 객체 생성(index 지정)"
   ]
  },
  {
   "cell_type": "code",
   "execution_count": 14,
   "id": "1acb131e-e8c5-46c3-9fce-81b5b48620b9",
   "metadata": {},
   "outputs": [
    {
     "name": "stdout",
     "output_type": "stream",
     "text": [
      "1월   -20\n",
      "2월   -10\n",
      "3월    10\n",
      "4월    20\n",
      "dtype: int64\n"
     ]
    }
   ],
   "source": [
    "temp = pd.Series([-20, -10, 10, 20], index=[\"1월\", \"2월\", \"3월\", \"4월\"])\n",
    "print(temp)"
   ]
  },
  {
   "cell_type": "code",
   "execution_count": 17,
   "id": "d6f6fadf-8e2f-4990-a817-50afbdb25fec",
   "metadata": {},
   "outputs": [
    {
     "name": "stdout",
     "output_type": "stream",
     "text": [
      "-20\n"
     ]
    }
   ],
   "source": [
    "print(temp[\"1월\"])"
   ]
  },
  {
   "cell_type": "code",
   "execution_count": null,
   "id": "2b63dced-3a19-4482-8460-118f3f97a2ae",
   "metadata": {},
   "outputs": [],
   "source": []
  }
 ],
 "metadata": {
  "kernelspec": {
   "display_name": "Python 3 (ipykernel)",
   "language": "python",
   "name": "python3"
  },
  "language_info": {
   "codemirror_mode": {
    "name": "ipython",
    "version": 3
   },
   "file_extension": ".py",
   "mimetype": "text/x-python",
   "name": "python",
   "nbconvert_exporter": "python",
   "pygments_lexer": "ipython3",
   "version": "3.13.5"
  }
 },
 "nbformat": 4,
 "nbformat_minor": 5
}
