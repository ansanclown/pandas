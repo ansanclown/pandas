{
 "cells": [
  {
   "cell_type": "markdown",
   "id": "1d72455d-c830-4ec2-9981-3c79745ba793",
   "metadata": {},
   "source": [
    "# I. 지도학습"
   ]
  },
  {
   "cell_type": "markdown",
   "id": "af31ec3e-8a5d-40b0-b69c-e6a028fdebc7",
   "metadata": {},
   "source": []
  },
  {
   "cell_type": "code",
   "execution_count": null,
   "id": "e9215995-9a88-4770-846a-99cb523c024b",
   "metadata": {},
   "outputs": [],
   "source": []
  }
 ],
 "metadata": {
  "kernelspec": {
   "display_name": "Python 3 (ipykernel)",
   "language": "python",
   "name": "python3"
  },
  "language_info": {
   "codemirror_mode": {
    "name": "ipython",
    "version": 3
   },
   "file_extension": ".py",
   "mimetype": "text/x-python",
   "name": "python",
   "nbconvert_exporter": "python",
   "pygments_lexer": "ipython3",
   "version": "3.13.5"
  }
 },
 "nbformat": 4,
 "nbformat_minor": 5
}
